{
 "cells": [
  {
   "cell_type": "markdown",
   "metadata": {},
   "source": [
    "# Project 3 - Exponential Moving Average in Hardware"
   ]
  },
  {
   "cell_type": "code",
   "execution_count": null,
   "metadata": {},
   "outputs": [],
   "source": [
    "%matplotlib inline\n",
    "\n",
    "import IPython\n",
    "import matplotlib.pyplot as plt\n",
    "import numpy as np\n",
    "import math"
   ]
  },
  {
   "cell_type": "markdown",
   "metadata": {},
   "source": [
    "## Quickly rebuild signals used in the previous project. "
   ]
  },
  {
   "cell_type": "code",
   "execution_count": null,
   "metadata": {},
   "outputs": [],
   "source": [
    "time = 2.0 # plot 1 second of sample points\n",
    "sample_rate =  10000# 10K samples/second\n",
    "low_freq    = 100 # frequency in Hz\n",
    "high_freq   = 4500 #frequency in Hz"
   ]
  },
  {
   "cell_type": "code",
   "execution_count": null,
   "metadata": {},
   "outputs": [],
   "source": [
    "x = np.linspace(0,time, int(time*sample_rate))\n",
    "y1 = np.sin(2*np.pi*low_freq*x)\n",
    "y1 = [int(x) for x in y1 *1000 + 1000]\n",
    "y2 = np.sin(2*np.pi*high_freq*x)\n",
    "y2 = [int(x) for x in y2 *1000 + 1000]\n",
    "y_sum = [sum(x) for x in zip(y1, y2)]"
   ]
  },
  {
   "cell_type": "code",
   "execution_count": null,
   "metadata": {},
   "outputs": [],
   "source": [
    "#\n",
    "# EMA with alpha=0.25 allows for simpler math\n",
    "#\n",
    "class Simple_EMA:\n",
    "    def ema_all(self,buf):\n",
    "        self.y=1000\n",
    "        return [self.ema_1(x) for x in buf]\n",
    "    \n",
    "    def ema_1(self,x):\n",
    "        #y = x * 0.25 + y * 0.75\n",
    "        # y = x * 0.25 + (y * 0.25 + y * 0.50)\n",
    "        self.y = int(math.floor(x/4) + math.floor(self.y/4) + math.floor(self.y/2))\n",
    "        return self.y \n",
    "    \n",
    "simple_ema = Simple_EMA()\n",
    "sema = simple_ema.ema_all(y_sum)\n",
    "sema2 = simple_ema.ema_all(sema)\n",
    "sema3 = simple_ema.ema_all(sema2)"
   ]
  },
  {
   "cell_type": "markdown",
   "metadata": {},
   "source": [
    "## Now it's time to map EMA to the hardware.  \n",
    "\n",
    "(Stop here until you have generated the bitstream)"
   ]
  },
  {
   "cell_type": "code",
   "execution_count": null,
   "metadata": {},
   "outputs": [],
   "source": [
    "import pynq\n",
    "\n",
    "class HW_EMA:\n",
    "    def __init__(self, bitstream):\n",
    "        overlay = pynq.Overlay(bitstream)\n",
    "        self.bitflip_dma = overlay.axi_dma_0\n",
    "        self.ema_1_dma = overlay.axi_dma_1\n",
    "        \n",
    "        self.buf_max=16\n",
    "\n",
    "    def bitflip(self, data):\n",
    "            \n",
    "        input_buffer = pynq.allocate(shape=(len(data),), dtype=np.uint32)\n",
    "        output_buffer = pynq.allocate(shape=(len(data),), dtype=np.uint32)\n",
    "               \n",
    "        # copy into our input buffer\n",
    "        np.copyto(input_buffer, data, casting='unsafe')\n",
    "\n",
    "        for s in np.arange(0,len(y_sum), self.buf_max):\n",
    "            e = min(s + self.buf_max, len(y_sum))\n",
    "            \n",
    "            self.bitflip_dma.sendchannel.transfer(input_buffer[s:e])\n",
    "            self.bitflip_dma.recvchannel.transfer(output_buffer[s:e])\n",
    "            self.bitflip_dma.sendchannel.wait()\n",
    "            self.bitflip_dma.recvchannel.wait()\n",
    "        \n",
    "        return output_buffer\n",
    "        \n",
    "    def ema_1x(self, data):\n",
    "        #convert to unsigned int\n",
    "        data = np.array(data, dtype=np.uint32)\n",
    "        \n",
    "        input_buffer = pynq.allocate(shape=(len(y_sum),), dtype=np.uint32)\n",
    "        output_buffer = pynq.allocate(shape=(len(y_sum),), dtype=np.uint32)\n",
    "               \n",
    "        # copy into our input buffer\n",
    "        np.copyto(input_buffer, data)\n",
    "\n",
    "        for s in np.arange(0,len(y_sum), self.buf_max):\n",
    "            e = min(s + self.buf_max, len(y_sum))\n",
    "            \n",
    "            self.ema_1_dma.sendchannel.transfer(input_buffer[s:e])\n",
    "            self.ema_1_dma.recvchannel.transfer(output_buffer[s:e])\n",
    "            self.ema_1_dma.sendchannel.wait()\n",
    "            self.ema_1_dma.recvchannel.wait()\n",
    "        \n",
    "        return output_buffer\n",
    "    \n",
    "    def ema_3x(self, data):\n",
    "        #convert to unsigned int\n",
    "        data = np.array(data, dtype=np.uint32)\n",
    "        \n",
    "        for i in range(0,3):\n",
    "            data = self.ema_1x(data)\n",
    "\n",
    "        return data\n",
    "        \n"
   ]
  },
  {
   "cell_type": "markdown",
   "metadata": {},
   "source": [
    "## This is an example of using an AXI-Stream.  This block flips all the bits of the stream.  "
   ]
  },
  {
   "cell_type": "code",
   "execution_count": null,
   "metadata": {},
   "outputs": [],
   "source": [
    "hw = HW_EMA('bitstream.bit')        \n",
    "\n",
    "buf = [0x0, 0x1, 0x2, 0x00ff00ff, 0xfffffffe, 0xffffffff]\n",
    "flip_buf = hw.bitflip(buf)\n",
    "\n",
    "print ([hex(x) for x in buf])\n",
    "print ([hex(x) for x in flip_buf])"
   ]
  },
  {
   "cell_type": "markdown",
   "metadata": {},
   "source": [
    "## To use the ILA, first load the bitstream"
   ]
  },
  {
   "cell_type": "code",
   "execution_count": null,
   "metadata": {},
   "outputs": [],
   "source": [
    "hw = HW_EMA('bitstream.bit')        "
   ]
  },
  {
   "cell_type": "markdown",
   "metadata": {},
   "source": [
    "# NOW START THE ILA \n",
    "(See Project Documentation for details)"
   ]
  },
  {
   "cell_type": "code",
   "execution_count": null,
   "metadata": {},
   "outputs": [],
   "source": [
    "buf = [0x0, 0x1, 0x2, 0x00ff00ff, 0xfffffffe, 0xffffffff]\n",
    "flip_buf = hw.bitflip(buf)\n",
    "\n",
    "print ([hex(x) for x in buf])\n",
    "print ([hex(x) for x in flip_buf])"
   ]
  },
  {
   "cell_type": "markdown",
   "metadata": {},
   "source": [
    "# Assignment"
   ]
  },
  {
   "cell_type": "markdown",
   "metadata": {},
   "source": [
    "# This is what you need to do.  The Python code works, but you will need to generate a functioning bitstream to go with it.  "
   ]
  },
  {
   "cell_type": "code",
   "execution_count": null,
   "metadata": {},
   "outputs": [],
   "source": [
    "hw = HW_EMA('bitstream.bit')        \n",
    "y_ema_hw = hw.ema_1x(y_sum)\n",
    "plt.figure()\n",
    "plt.plot(x,sema, alpha=0.25)\n",
    "plt.plot(x,y_ema_hw, alpha=0.75)\n",
    "plt.xlim((0,0.02))\n",
    "plt.show()"
   ]
  },
  {
   "cell_type": "code",
   "execution_count": null,
   "metadata": {},
   "outputs": [],
   "source": [
    "y_ema3_hw = hw.ema_3x(y_sum)\n",
    "plt.figure()\n",
    "plt.plot(x,sema3)\n",
    "plt.plot(x,y_ema3_hw)\n",
    "plt.xlim((0,0.05))\n",
    "plt.show()\n",
    "\n",
    "IPython.display.Audio(y_ema3_hw, rate=sample_rate)"
   ]
  },
  {
   "cell_type": "markdown",
   "metadata": {},
   "source": [
    "## Now we can check on runtimes"
   ]
  },
  {
   "cell_type": "code",
   "execution_count": null,
   "metadata": {},
   "outputs": [],
   "source": [
    "# a little fancyness to deal with Jupyer running as root.\n",
    "import sys\n",
    "import os\n",
    "sys.path.insert(0,os.path.abspath('./cEMA/'))\n",
    "import time\n",
    "simple_ema = Simple_EMA()\n",
    "import cEMA\n",
    "hw = HW_EMA('bitstream.bit')        "
   ]
  },
  {
   "cell_type": "code",
   "execution_count": null,
   "metadata": {},
   "outputs": [],
   "source": [
    "stime = time.time()\n",
    "a = simple_ema.ema_all(y_sum)\n",
    "b = simple_ema.ema_all(a)\n",
    "c = simple_ema.ema_all(b)\n",
    "etime = time.time()\n",
    "print(\"Python:  %f seconds\" % (etime - stime))\n",
    "py_time = etime - stime\n",
    "\n",
    "stime = time.time()\n",
    "d = cEMA.ema_all(y_sum)\n",
    "e = cEMA.ema_all(d)\n",
    "f = cEMA.ema_all(e)\n",
    "etime = time.time()\n",
    "print(\"C: %f seconds\" % (etime - stime))\n",
    "c_time = etime - stime\n",
    "\n",
    "stime = time.time()\n",
    "g = hw.ema_3x(y_sum)\n",
    "etime = time.time()\n",
    "print(\"HW:  %f seconds\" % (etime - stime))\n",
    "hw_time = etime - stime\n"
   ]
  },
  {
   "cell_type": "code",
   "execution_count": null,
   "metadata": {},
   "outputs": [],
   "source": [
    "\n",
    "\n"
   ]
  }
 ],
 "metadata": {
  "kernelspec": {
   "display_name": "Python 3",
   "language": "python",
   "name": "python3"
  },
  "language_info": {
   "codemirror_mode": {
    "name": "ipython",
    "version": 3
   },
   "file_extension": ".py",
   "mimetype": "text/x-python",
   "name": "python",
   "nbconvert_exporter": "python",
   "pygments_lexer": "ipython3",
   "version": "3.6.5"
  }
 },
 "nbformat": 4,
 "nbformat_minor": 4
}
